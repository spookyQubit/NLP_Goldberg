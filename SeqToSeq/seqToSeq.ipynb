{
 "cells": [
  {
   "cell_type": "code",
   "execution_count": 1,
   "metadata": {},
   "outputs": [
    {
     "name": "stdout",
     "output_type": "stream",
     "text": [
      "Once deleted, variables cannot be recovered. Proceed (y/[n])? y\n"
     ]
    }
   ],
   "source": [
    "%reset\n",
    "from collections import defaultdict\n",
    "import dynet as dy\n",
    "import random\n",
    "import time"
   ]
  },
  {
   "cell_type": "code",
   "execution_count": 2,
   "metadata": {
    "collapsed": true
   },
   "outputs": [],
   "source": [
    "train_src_file = \"../nn4nlp2017-code-master/data/parallel/train.ja\"\n",
    "train_trg_file = \"../nn4nlp2017-code-master/data/parallel/train.en\"\n",
    "test_src_file = \"../nn4nlp2017-code-master/data/parallel/test.ja\"\n",
    "test_trg_file = \"../nn4nlp2017-code-master/data/parallel/test.en\""
   ]
  },
  {
   "cell_type": "code",
   "execution_count": 3,
   "metadata": {},
   "outputs": [],
   "source": [
    "w2i_src = defaultdict(lambda: len(w2i_src))\n",
    "w2i_trg = defaultdict(lambda: len(w2i_trg))\n",
    "\n",
    "sos_sym = '<s>'\n",
    "eos_sym = '</s>'\n",
    "unk_sym = \"<unk>\"\n",
    "\n",
    "sos_src = w2i_src[sos_sym]\n",
    "sos_trg = w2i_trg[sos_sym]\n",
    "eos_src = w2i_src[eos_sym]\n",
    "eos_trg = w2i_trg[eos_sym]\n",
    "unk_src = w2i_src[unk_sym]\n",
    "unk_trg = w2i_trg[unk_sym]\n",
    "\n",
    "### Read the data\n",
    "def read_data(file_src, file_trg):\n",
    "    with open(file_src, \"r\") as f_src, open(file_trg, \"r\") as f_trg:\n",
    "        for l_src, l_trg in zip(f_src, f_trg):\n",
    "            s_src = [w2i_src[w] for w in l_src.strip().split() + [eos_sym]]\n",
    "            s_trg = [w2i_trg[w] for w in l_trg.strip().split() + [eos_sym]]\n",
    "            yield s_src, s_trg\n",
    "            \n",
    "train = list(read_data(train_src_file, train_trg_file))\n",
    "w2i_src = defaultdict(lambda: unk_src, w2i_src)\n",
    "w2i_trg = defaultdict(lambda: unk_trg, w2i_trg)\n",
    "\n",
    "nWords_src = len(w2i_src) \n",
    "nWords_trg = len(w2i_trg)"
   ]
  },
  {
   "cell_type": "code",
   "execution_count": 4,
   "metadata": {},
   "outputs": [],
   "source": [
    "# dynet\n",
    "model = dy.Model()\n",
    "trainier = dy.AdamTrainer(model)\n",
    "\n",
    "# Model parameters \n",
    "EMB_SIZE = 64\n",
    "HIDDEN_SIZE = 128\n",
    "\n",
    "# Max sent len\n",
    "MAX_SENT_LEN = 50\n",
    "\n",
    "# Lookup parameters\n",
    "LOOK_UP_SRC = model.add_lookup_parameters((nWords_src, EMB_SIZE))\n",
    "LOOK_UP_TRG = model.add_lookup_parameters((nWords_trg, EMB_SIZE))\n",
    "\n",
    "# Word level GRUs\n",
    "GRU_BUILDER_SRC = dy.GRUBuilder(1, EMB_SIZE, HIDDEN_SIZE, model) \n",
    "GRU_BUILDER_TRG = dy.GRUBuilder(1, EMB_SIZE, HIDDEN_SIZE, model)\n",
    "\n",
    "# softmax from hidden state\n",
    "W_sm_p = model.add_parameters((nWords_trg, HIDDEN_SIZE))\n",
    "b_sm_p = model.add_parameters((nWords_trg))"
   ]
  },
  {
   "cell_type": "code",
   "execution_count": 5,
   "metadata": {},
   "outputs": [],
   "source": [
    "def calc_loss(sent):\n",
    "    sent_src = sent[0]\n",
    "    sent_trg = sent[1]\n",
    "    \n",
    "    # parameter ---> exp\n",
    "    W_sm_exp = dy.parameter(W_sm_p)\n",
    "    b_sm_exp = dy.parameter(b_sm_p)\n",
    "\n",
    "    # Encode the src sentence into an output vector\n",
    "    src_state = GRU_BUILDER_SRC.initial_state()\n",
    "    for w_id_src in sent_src:\n",
    "        src_state = src_state.add_input(LOOK_UP_SRC[w_id_src])\n",
    "    src_output = src_state.output()\n",
    "    \n",
    "    # Set the initial target gru state as the output of the source gru state\n",
    "    trg_state = GRU_BUILDER_TRG.initial_state().set_h([src_output])\n",
    "    \n",
    "    loss_exps = []\n",
    "    prev_word = sent_trg[0]\n",
    "    for w_id_trg in sent_trg[1:]:\n",
    "        trg_state = trg_state.add_input(LOOK_UP_TRG[prev_word])\n",
    "        loss_exps.append(dy.pickneglogsoftmax(dy.affine_transform([b_sm_exp, W_sm_exp, trg_state.output()]), \n",
    "                                              w_id_trg))\n",
    "        prev_word = w_id_trg\n",
    "    \n",
    "    return dy.esum(loss_exps)"
   ]
  },
  {
   "cell_type": "code",
   "execution_count": null,
   "metadata": {},
   "outputs": [],
   "source": [
    "for ITER in range(2):\n",
    "    random.shuffle(train)\n",
    "    train_loss = 0\n",
    "    train_words = 0\n",
    "    start = time.time()\n",
    "    for s_id, sent in enumerate(train):\n",
    "        loss_exp = calc_loss(sent)\n",
    "        train_loss += loss_exp.value()\n",
    "        train_words += len(sent)\n",
    "        loss_exp.backward()\n",
    "        trainier.update()\n",
    "        if (s_id+1) % 100 == 0:\n",
    "            print(\"finished {} sentences\".format(s_id + 1))\n",
    "            print(\"train_loss/train_words = {}\".format(train_loss/train_words))\n",
    "    iter_time = time.time() - start\n",
    "    print(\"ITER = {}, train_loss/train_words = {}, time = {}\".format(ITER, \n",
    "                                                                     train_loss/train_words, \n",
    "                                                                     iter_time))"
   ]
  },
  {
   "cell_type": "code",
   "execution_count": null,
   "metadata": {
    "collapsed": true
   },
   "outputs": [],
   "source": [
    ""
   ]
  }
 ],
 "metadata": {
  "kernelspec": {
   "display_name": "Python 2",
   "language": "python",
   "name": "python2"
  },
  "language_info": {
   "codemirror_mode": {
    "name": "ipython",
    "version": 2.0
   },
   "file_extension": ".py",
   "mimetype": "text/x-python",
   "name": "python",
   "nbconvert_exporter": "python",
   "pygments_lexer": "ipython2",
   "version": "2.7.14"
  }
 },
 "nbformat": 4,
 "nbformat_minor": 0
}